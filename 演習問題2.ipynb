{
 "cells": [
  {
   "cell_type": "code",
   "execution_count": 4,
   "metadata": {},
   "outputs": [
    {
     "name": "stdout",
     "output_type": "stream",
     "text": [
      "整数を入力してください\n",
      "12\n",
      "0xc\n"
     ]
    }
   ],
   "source": [
    "#1\n",
    "print('整数を入力してください')\n",
    "x = input()\n",
    "print(hex(int(x)))"
   ]
  },
  {
   "cell_type": "code",
   "execution_count": 15,
   "metadata": {},
   "outputs": [
    {
     "name": "stdout",
     "output_type": "stream",
     "text": [
      "10\n"
     ]
    }
   ],
   "source": [
    "#2\n",
    "from datetime import datetime\n",
    "basetime = datetime(2019, 3, 20)\n",
    "basetime2= datetime(2019, 3, 30)\n",
    "answer=basetime2-basetime\n",
    "print(answer.days)"
   ]
  },
  {
   "cell_type": "code",
   "execution_count": 18,
   "metadata": {},
   "outputs": [
    {
     "name": "stdout",
     "output_type": "stream",
     "text": [
      "赤\n",
      "黒\n"
     ]
    }
   ],
   "source": [
    "#3\n",
    "color_list = [\"赤\", \"緑\", \"白\", \"黒\"] \n",
    "print(color_list[0])\n",
    "print(color_list[3])"
   ]
  },
  {
   "cell_type": "code",
   "execution_count": 25,
   "metadata": {
    "scrolled": true
   },
   "outputs": [
    {
     "name": "stdout",
     "output_type": "stream",
     "text": [
      "3 9 1 7 3 5 3 1\n"
     ]
    }
   ],
   "source": [
    "#4\n",
    "list1=[1,3,5,3,7,1,9,3] \n",
    "list2=[]\n",
    "list2=[str(a) for a in list1[::-1]]\n",
    "list2=\" \".join(list2)\n",
    "print(list2)"
   ]
  },
  {
   "cell_type": "code",
   "execution_count": 23,
   "metadata": {
    "scrolled": true
   },
   "outputs": [
    {
     "name": "stdout",
     "output_type": "stream",
     "text": [
      "[1, 3, 5, 7, 9, 11]\n"
     ]
    }
   ],
   "source": [
    "#5\n",
    "list1=[1,3,5,7,9] \n",
    "list1.append(11)\n",
    "print(list1)"
   ]
  },
  {
   "cell_type": "code",
   "execution_count": 27,
   "metadata": {},
   "outputs": [
    {
     "name": "stdout",
     "output_type": "stream",
     "text": [
      "[1, 4, 3, 5, 7, 9]\n"
     ]
    }
   ],
   "source": [
    "#6\n",
    "list1=[1,3,5,7,9] \n",
    "list1.insert(1,4)\n",
    "print(list1)"
   ]
  },
  {
   "cell_type": "code",
   "execution_count": 31,
   "metadata": {},
   "outputs": [
    {
     "name": "stdout",
     "output_type": "stream",
     "text": [
      "246.2458\n"
     ]
    }
   ],
   "source": [
    "#7\n",
    "a='246.2458'\n",
    "print(float(a))"
   ]
  },
  {
   "cell_type": "code",
   "execution_count": 34,
   "metadata": {},
   "outputs": [
    {
     "name": "stdout",
     "output_type": "stream",
     "text": [
      "6.324555320336759\n"
     ]
    }
   ],
   "source": [
    "#8\n",
    "import math\n",
    "(x1,y1)=[4,0] \n",
    "(x2,y2)=[6,6] \n",
    "a=math.sqrt((x2-x1)**2+(y2-y1)**2)\n",
    "print(a)"
   ]
  },
  {
   "cell_type": "code",
   "execution_count": 44,
   "metadata": {},
   "outputs": [
    {
     "name": "stdout",
     "output_type": "stream",
     "text": [
      "7.001274097134162\n"
     ]
    }
   ],
   "source": [
    "#9\n",
    "a=0\n",
    "i=1\n",
    "while a<=7:\n",
    "    a+=1/i\n",
    "    i+=1\n",
    "print(a)"
   ]
  },
  {
   "cell_type": "code",
   "execution_count": 46,
   "metadata": {},
   "outputs": [
    {
     "name": "stdout",
     "output_type": "stream",
     "text": [
      "192.168.11.5\n"
     ]
    }
   ],
   "source": [
    "#11\n",
    "import socket\n",
    "host = socket.gethostname()\n",
    "ip = socket.gethostbyname(host)\n",
    "print(ip)"
   ]
  },
  {
   "cell_type": "code",
   "execution_count": 48,
   "metadata": {},
   "outputs": [],
   "source": [
    "#12\n",
    "import os\n",
    "print(os.environ)"
   ]
  },
  {
   "cell_type": "code",
   "execution_count": 49,
   "metadata": {},
   "outputs": [
    {
     "data": {
      "text/plain": [
       "'C:\\\\Users\\\\reoto\\\\Python_training\\\\Python_training'"
      ]
     },
     "execution_count": 49,
     "metadata": {},
     "output_type": "execute_result"
    }
   ],
   "source": [
    "#13\n",
    "import os\n",
    "os.path.abspath('Python_training')"
   ]
  },
  {
   "cell_type": "code",
   "execution_count": 50,
   "metadata": {},
   "outputs": [
    {
     "data": {
      "text/plain": [
       "'Python_training'"
      ]
     },
     "execution_count": 50,
     "metadata": {},
     "output_type": "execute_result"
    }
   ],
   "source": [
    "#14\n",
    "import os\n",
    "os.path.basename('C:\\\\Users\\\\reoto\\\\Python_training\\\\Python_training')"
   ]
  },
  {
   "cell_type": "code",
   "execution_count": 53,
   "metadata": {},
   "outputs": [
    {
     "data": {
      "text/plain": [
       "['.ipynb_checkpoints',\n",
       " 'Untitled.ipynb',\n",
       " 'Untitled1.ipynb',\n",
       " 'Untitled2.ipynb',\n",
       " 'Untitled3.ipynb']"
      ]
     },
     "execution_count": 53,
     "metadata": {},
     "output_type": "execute_result"
    }
   ],
   "source": [
    "#15\n",
    "import os\n",
    "path = os.getcwd()\n",
    "os.listdir(path)"
   ]
  }
 ],
 "metadata": {
  "kernelspec": {
   "display_name": "Python 3",
   "language": "python",
   "name": "python3"
  },
  "language_info": {
   "codemirror_mode": {
    "name": "ipython",
    "version": 3
   },
   "file_extension": ".py",
   "mimetype": "text/x-python",
   "name": "python",
   "nbconvert_exporter": "python",
   "pygments_lexer": "ipython3",
   "version": "3.7.3"
  }
 },
 "nbformat": 4,
 "nbformat_minor": 2
}
