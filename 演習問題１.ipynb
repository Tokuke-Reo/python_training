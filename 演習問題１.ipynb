{
 "cells": [
  {
   "cell_type": "code",
   "execution_count": null,
   "metadata": {},
   "outputs": [],
   "source": [
    "#4\n",
    "print('借金の総額を入力してください')\n",
    "x=input()\n",
    "print('ひと月に返済する金額を入力してください')\n",
    "y=int(input())*12\n",
    "z=-(-int(x)//int(y))\n",
    "print('返済に'+str(z)+'年かかります')\n",
    "print('毎年のボーナスから返済にあてる金額を入力してください')\n",
    "a=input()\n",
    "z=-(-int(x)//(int(y)+int(a))\n",
    "print('返済に'+str(z)+'年かかります')"
   ]
  },
  {
   "cell_type": "code",
   "execution_count": null,
   "metadata": {},
   "outputs": [],
   "source": [
    "#5\n",
    "print('整数を入力してください')\n",
    "x = input()\n",
    "x=int(x)\n",
    "if x+2500==3500*9:\n",
    "    print('OK')\n",
    "else:\n",
    "   print('Boo')"
   ]
  },
  {
   "cell_type": "code",
   "execution_count": null,
   "metadata": {},
   "outputs": [],
   "source": [
    "#6(1)\n",
    "while 1:\n",
    "    print('整数を入力してください')\n",
    "    x=input()\n",
    "    if int(x)%7==0:\n",
    "        print('７の倍数です')\n",
    "    else:\n",
    "        print('7の倍数ではありません')\n",
    "    "
   ]
  },
  {
   "cell_type": "code",
   "execution_count": null,
   "metadata": {},
   "outputs": [],
   "source": [
    "#6(2)\n",
    "while 1:\n",
    "    print('整数を入力してください')\n",
    "    x=input()\n",
    "    if int(x)%3==0:\n",
    "        print('3の倍数です')\n",
    "    else:\n",
    "        print('3の倍数ではありません')"
   ]
  },
  {
   "cell_type": "code",
   "execution_count": null,
   "metadata": {},
   "outputs": [],
   "source": [
    "while 1:\n",
    "    print('整数を入力してください')\n",
    "    x=input()\n",
    "    if int(x)<0:\n",
    "        print('負です')\n",
    "    else:\n",
    "        print('負ではありません')"
   ]
  },
  {
   "cell_type": "code",
   "execution_count": null,
   "metadata": {},
   "outputs": [],
   "source": [
    "#7\n",
    "print('名前を入力してください')\n",
    "a=input()\n",
    "print('年齢を入力してください')\n",
    "b=input()\n",
    "print(a+'さんはあと'+str(100-int(b))+'年で100歳になります')"
   ]
  },
  {
   "cell_type": "code",
   "execution_count": null,
   "metadata": {},
   "outputs": [],
   "source": [
    "#8\n",
    "print('整数を入力してください')\n",
    "x=input()\n",
    "x=int(x)\n",
    "if x%4==0:\n",
    "    print('４の倍数です')\n",
    "elif x%2==0:\n",
    "    print('偶数です')\n",
    "else :\n",
    "    print('奇数です')"
   ]
  },
  {
   "cell_type": "code",
   "execution_count": null,
   "metadata": {},
   "outputs": [],
   "source": [
    "#9\n",
    "print('文字列を入力してください')\n",
    "x=input()\n",
    "string=list(x)\n",
    "count=0\n",
    "judge=0\n",
    "while count < (len(string)//2):\n",
    "    if string[count]!=string[len(string)-count-1]:\n",
    "        judge+=1\n",
    "    count+=1\n",
    "if judge==0:\n",
    "    print('回文です')\n",
    "else:\n",
    "    print('回文ではありません')"
   ]
  },
  {
   "cell_type": "code",
   "execution_count": null,
   "metadata": {},
   "outputs": [],
   "source": [
    "#10\n",
    "a=[1, 4, 9, 16, 25, 36, 49, 64, 81, 100]\n",
    "b=[]\n",
    "i=0\n",
    "while(len(a)>i):\n",
    "    if(a[i]%2==0):\n",
    "        b.append(a[i])\n",
    "    i+=1\n",
    "print(str(b))"
   ]
  }
 ],
 "metadata": {
  "kernelspec": {
   "display_name": "Python 3",
   "language": "python",
   "name": "python3"
  },
  "language_info": {
   "codemirror_mode": {
    "name": "ipython",
    "version": 3
   },
   "file_extension": ".py",
   "mimetype": "text/x-python",
   "name": "python",
   "nbconvert_exporter": "python",
   "pygments_lexer": "ipython3",
   "version": "3.7.3"
  }
 },
 "nbformat": 4,
 "nbformat_minor": 2
}
